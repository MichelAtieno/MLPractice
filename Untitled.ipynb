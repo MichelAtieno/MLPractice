{
 "cells": [
  {
   "cell_type": "code",
   "execution_count": 6,
   "metadata": {},
   "outputs": [
    {
     "name": "stdout",
     "output_type": "stream",
     "text": [
      "Requirement already satisfied: quandl in /home/michel/anaconda3/lib/python3.7/site-packages (3.4.5)\n",
      "Requirement already satisfied: pandas>=0.14 in /home/michel/anaconda3/lib/python3.7/site-packages (from quandl) (0.23.4)\n",
      "Requirement already satisfied: inflection>=0.3.1 in /home/michel/anaconda3/lib/python3.7/site-packages (from quandl) (0.3.1)\n",
      "Requirement already satisfied: python-dateutil in /home/michel/anaconda3/lib/python3.7/site-packages (from quandl) (2.7.5)\n",
      "Requirement already satisfied: numpy>=1.8 in /home/michel/anaconda3/lib/python3.7/site-packages (from quandl) (1.15.4)\n",
      "Requirement already satisfied: six in /home/michel/anaconda3/lib/python3.7/site-packages (from quandl) (1.12.0)\n",
      "Requirement already satisfied: more-itertools in /home/michel/anaconda3/lib/python3.7/site-packages (from quandl) (4.3.0)\n",
      "Requirement already satisfied: requests>=2.7.0 in /home/michel/anaconda3/lib/python3.7/site-packages (from quandl) (2.21.0)\n",
      "Requirement already satisfied: pytz>=2011k in /home/michel/anaconda3/lib/python3.7/site-packages (from pandas>=0.14->quandl) (2018.7)\n",
      "Requirement already satisfied: chardet<3.1.0,>=3.0.2 in /home/michel/anaconda3/lib/python3.7/site-packages (from requests>=2.7.0->quandl) (3.0.4)\n",
      "Requirement already satisfied: certifi>=2017.4.17 in /home/michel/anaconda3/lib/python3.7/site-packages (from requests>=2.7.0->quandl) (2018.11.29)\n",
      "Requirement already satisfied: idna<2.9,>=2.5 in /home/michel/anaconda3/lib/python3.7/site-packages (from requests>=2.7.0->quandl) (2.8)\n",
      "Requirement already satisfied: urllib3<1.25,>=1.21.1 in /home/michel/anaconda3/lib/python3.7/site-packages (from requests>=2.7.0->quandl) (1.24.1)\n"
     ]
    }
   ],
   "source": [
    "!pip install quandl\n",
    "import pandas as pd\n",
    "import quandl"
   ]
  },
  {
   "cell_type": "code",
   "execution_count": 8,
   "metadata": {},
   "outputs": [],
   "source": [
    "df = quandl.get('WIKI/GOOGL')"
   ]
  },
  {
   "cell_type": "code",
   "execution_count": 24,
   "metadata": {},
   "outputs": [
    {
     "name": "stdout",
     "output_type": "stream",
     "text": [
      "            Adj. Close    HL_PCT  PCT_change  Adj. Volume\n",
      "Date                                                     \n",
      "2004-08-19   50.322842  3.712563    0.324968   44659000.0\n",
      "2004-08-20   54.322689  0.710922    7.227007   22834300.0\n",
      "2004-08-23   54.869377  3.729433   -1.227880   18256100.0\n",
      "2004-08-24   52.597363  6.417469   -5.726357   15247300.0\n",
      "2004-08-25   53.164113  1.886792    1.183658    9188600.0\n"
     ]
    }
   ],
   "source": [
    "# df = df[['Adj. Open','Adj. High','Adj. Low','Adj. Close','Adj. Volume']]\n",
    "# df['HL_PCT'] = (df['Adj. High'] - df['Adj. Close']) / df['Adj. Close'] * 100.0\n",
    "# df['PCT_change'] = (df['Adj. Close'] - df['Adj. Open']) / df['Adj. Open'] * 100.0\n",
    "\n",
    "# df = df[['Adj. Close', 'HL_PCT', 'PCT_change', 'Adj. Volume']]\n",
    "\n",
    "print(df.head())"
   ]
  },
  {
   "cell_type": "code",
   "execution_count": null,
   "metadata": {},
   "outputs": [],
   "source": []
  }
 ],
 "metadata": {
  "kernelspec": {
   "display_name": "Python 3",
   "language": "python",
   "name": "python3"
  },
  "language_info": {
   "codemirror_mode": {
    "name": "ipython",
    "version": 3
   },
   "file_extension": ".py",
   "mimetype": "text/x-python",
   "name": "python",
   "nbconvert_exporter": "python",
   "pygments_lexer": "ipython3",
   "version": "3.7.1"
  }
 },
 "nbformat": 4,
 "nbformat_minor": 2
}
